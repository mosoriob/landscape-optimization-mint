{
 "cells": [
  {
   "cell_type": "markdown",
   "metadata": {},
   "source": [
    "# Intersection script\n",
    "\n",
    "Arguments required:\n",
    "- path to burn units shape file\n",
    "- path to ignitions points csv\n",
    "- path to store intersection output"
   ]
  },
  {
   "cell_type": "code",
   "execution_count": 3,
   "metadata": {},
   "outputs": [],
   "source": [
    "shape_file_path = 'large_burn_units.shp'\n",
    "ignitions_file_path = 'yosemite_ignitions_firesize_100ac.csv'\n",
    "intersection_output_file_path = 'test.csv'"
   ]
  },
  {
   "cell_type": "code",
   "execution_count": 4,
   "metadata": {},
   "outputs": [
    {
     "name": "stdout",
     "output_type": "stream",
     "text": [
      "Running intersection script\n",
      "Total intersections=  46804\n",
      "\n",
      "IPython CPU timings (estimated):\n",
      "  User   :      52.03 s.\n",
      "  System :       0.00 s.\n",
      "Wall time:      52.03 s.\n"
     ]
    }
   ],
   "source": [
    "%run -t intersect.py $shape_file_path $ignitions_file_path $intersection_output_file_path"
   ]
  },
  {
   "cell_type": "markdown",
   "metadata": {},
   "source": [
    "# Metrics calculations\n",
    "\n",
    "Arguments required are to be initialized first!\n",
    "\n",
    "- Add the s3 bucket key\n",
    "- Change the paths as per required\n",
    "\n",
    "Key:\n",
    "- toa - time of arrival rasters\n",
    "- flamelen - flame length (intensity) rasters\n",
    "- ba - burned_area rasters\n",
    "- dr - damage_respose rasters\n",
    "- bd - building damage rasters\n",
    "- hd - habitat damage rasters\n",
    "- tmp - temporary folder\n",
    "- local - on your local system\n",
    "- remote - on s3 bucket"
   ]
  },
  {
   "cell_type": "code",
   "execution_count": 1,
   "metadata": {},
   "outputs": [],
   "source": [
    "s3url = 'https://wifire-data.sdsc.edu:9000'\n",
    "s3key = KEY\n",
    "s3secret = SECRET\n",
    "ignition_points_of_interest = 'test.csv'\n",
    "toa_remote_path = 'landscape-optimization/wildfire-footprints/yosemite-2023/toa/toa-'\n",
    "toa_local_path = 'data/inputs/toa/toa-'\n",
    "input_toa_local_path = 'data/inputs/toa/'\n",
    "output_ba_local_path = 'data/outputs/burned_area/'\n",
    "ba_remote_output_path = 'landscape-optimization/test/'\n",
    "flamelen_remote_path = 'landscape-optimization/wildfire-footprints/yosemite-2023/flamelen/flamelen-'\n",
    "flamelen_local_path = 'data/inputs/flamelen/flamelen-'\n",
    "input_flamelen_local_path = 'data/inputs/flamelen/'\n",
    "output_dr_local_path = 'data/outputs/damage_response/'\n",
    "dr_remote_output_path = 'landscape-optimization/test/'\n",
    "intensity_remote_path = 'landscape-optimization/test/'\n",
    "footprints_polygon_path = 'data/outputs/footprint_polygons.json'\n",
    "MS_bldgs_file_path = 'data/inputs/MS_bldgs_all_tiles.json'\n",
    "buildings_gdf_output_path = 'data/outputs/building_gdf.geojson'\n",
    "output_bd_local_path = 'data/outputs/building_damage/'\n",
    "tmp_output_path = 'data/outputs/tmp/'\n",
    "dr_remote_path = 'landscape-optimization/yosemite/metrics/damage_response/damage_response-' # need to change\n",
    "bd_remote_output_path = 'landscape-optimization/test/'\n",
    "critical_habitat_polygons_path = 'data/inputs/critical_habitat_polygons/CRITHAB_POLY.shp'\n",
    "habitats_gdf_output_path = 'data/outputs/habitat_gdf.geojson'\n",
    "output_hd_local_path = 'data/outputs/habitat_damage/'\n",
    "hd_remote_path = 'landscape-optimization/test/'"
   ]
  },
  {
   "cell_type": "code",
   "execution_count": 2,
   "metadata": {},
   "outputs": [
    {
     "name": "stdout",
     "output_type": "stream",
     "text": [
      "Parameters received= 27\n",
      "S3 bucket initialized\n",
      "Total ignition files= 5\n",
      "Calculating burned area, damage response and intensity rasters\n",
      "Saving footprints polygon json\n",
      "Finding intersection with MS building tiles json\n",
      "(3, 5)\n",
      "Calculating building damage rasters\n"
     ]
    },
    {
     "ename": "PermissionError",
     "evalue": "[WinError 32] The process cannot access the file because it is being used by another process: 'data/inputs/flamelen/damage_response-24_32-6669-0000003.tif'",
     "output_type": "error",
     "traceback": [
      "\u001b[1;31m---------------------------------------------------------------------------\u001b[0m",
      "\u001b[1;31mPermissionError\u001b[0m                           Traceback (most recent call last)",
      "\u001b[1;32mc:\\Users\\Pratyush Karmakar\\Documents\\GitHub\\landscape-optimization\\script1.py\u001b[0m in \u001b[0;36m<module>\u001b[1;34m\u001b[0m\n\u001b[0;32m    411\u001b[0m     \u001b[1;31m# print(\"filenames\", shp_filename, root_filename, count)\u001b[0m\u001b[1;33m\u001b[0m\u001b[1;33m\u001b[0m\u001b[0m\n\u001b[0;32m    412\u001b[0m     \u001b[1;31m# print(count, \"f:\", root_filename)\u001b[0m\u001b[1;33m\u001b[0m\u001b[1;33m\u001b[0m\u001b[0m\n\u001b[1;32m--> 413\u001b[1;33m     \u001b[0mmake_raster\u001b[0m\u001b[1;33m(\u001b[0m\u001b[0mroot_filename\u001b[0m\u001b[1;33m,\u001b[0m\u001b[0mshp_filename\u001b[0m\u001b[1;33m,\u001b[0m\u001b[0min_path\u001b[0m\u001b[1;33m,\u001b[0m\u001b[0mout_path\u001b[0m\u001b[1;33m,\u001b[0m \u001b[0mprefix\u001b[0m\u001b[1;33m,\u001b[0m\u001b[0mout_path_tmp\u001b[0m\u001b[1;33m)\u001b[0m\u001b[1;33m\u001b[0m\u001b[1;33m\u001b[0m\u001b[0m\n\u001b[0m\u001b[0;32m    414\u001b[0m     \u001b[0mshutil\u001b[0m\u001b[1;33m.\u001b[0m\u001b[0mrmtree\u001b[0m\u001b[1;33m(\u001b[0m\u001b[0mout_path_tmp\u001b[0m\u001b[1;33m,\u001b[0m \u001b[0mignore_errors\u001b[0m\u001b[1;33m=\u001b[0m\u001b[1;32mTrue\u001b[0m\u001b[1;33m)\u001b[0m\u001b[1;33m\u001b[0m\u001b[1;33m\u001b[0m\u001b[0m\n\u001b[0;32m    415\u001b[0m     \u001b[0mos\u001b[0m\u001b[1;33m.\u001b[0m\u001b[0mmkdir\u001b[0m\u001b[1;33m(\u001b[0m\u001b[0mout_path_tmp\u001b[0m\u001b[1;33m)\u001b[0m\u001b[1;33m\u001b[0m\u001b[1;33m\u001b[0m\u001b[0m\n",
      "\u001b[1;32mc:\\Users\\Pratyush Karmakar\\Documents\\GitHub\\landscape-optimization\\script1.py\u001b[0m in \u001b[0;36mmake_raster\u001b[1;34m(filename, shp_filename, in_path, out_path, prefix, out_path_tmp)\u001b[0m\n\u001b[0;32m    391\u001b[0m     \u001b[0mds\u001b[0m \u001b[1;33m=\u001b[0m \u001b[1;32mNone\u001b[0m\u001b[1;33m\u001b[0m\u001b[1;33m\u001b[0m\u001b[0m\n\u001b[0;32m    392\u001b[0m \u001b[1;33m\u001b[0m\u001b[0m\n\u001b[1;32m--> 393\u001b[1;33m     \u001b[0mos\u001b[0m\u001b[1;33m.\u001b[0m\u001b[0mremove\u001b[0m\u001b[1;33m(\u001b[0m\u001b[0mfn_ras\u001b[0m\u001b[1;33m)\u001b[0m\u001b[1;33m\u001b[0m\u001b[1;33m\u001b[0m\u001b[0m\n\u001b[0m\u001b[0;32m    394\u001b[0m     \u001b[0mos\u001b[0m\u001b[1;33m.\u001b[0m\u001b[0mremove\u001b[0m\u001b[1;33m(\u001b[0m\u001b[0mout\u001b[0m\u001b[1;33m)\u001b[0m\u001b[1;33m\u001b[0m\u001b[1;33m\u001b[0m\u001b[0m\n\u001b[0;32m    395\u001b[0m \u001b[1;33m\u001b[0m\u001b[0m\n",
      "\u001b[1;31mPermissionError\u001b[0m: [WinError 32] The process cannot access the file because it is being used by another process: 'data/inputs/flamelen/damage_response-24_32-6669-0000003.tif'"
     ]
    },
    {
     "name": "stdout",
     "output_type": "stream",
     "text": [
      "\n",
      "IPython CPU timings (estimated):\n",
      "  User   :      48.81 s.\n",
      "  System :       0.00 s.\n",
      "Wall time:      48.81 s.\n"
     ]
    }
   ],
   "source": [
    "%run -t calculate_metrics.py $s3url \\\n",
    "    $s3key \\\n",
    "    $s3secret \\\n",
    "    $ignition_points_of_interest \\\n",
    "    $toa_remote_path \\\n",
    "    $toa_local_path \\\n",
    "    $input_toa_local_path \\\n",
    "    $output_ba_local_path \\\n",
    "    $ba_remote_output_path \\\n",
    "    $flamelen_remote_path \\\n",
    "    $flamelen_local_path \\\n",
    "    $input_flamelen_local_path \\\n",
    "    $output_dr_local_path \\\n",
    "    $dr_remote_output_path \\\n",
    "    $intensity_remote_path \\\n",
    "    $footprints_polygon_path \\\n",
    "    $MS_bldgs_file_path \\\n",
    "    $buildings_gdf_output_path \\\n",
    "    $output_bd_local_path \\\n",
    "    $tmp_output_path \\\n",
    "    $dr_remote_path \\\n",
    "    $bd_remote_output_path \\\n",
    "    $critical_habitat_polygons_path \\\n",
    "    $habitats_gdf_output_path \\\n",
    "    $output_hd_local_path \\\n",
    "    $hd_remote_path"
   ]
  },
  {
   "cell_type": "code",
   "execution_count": null,
   "metadata": {},
   "outputs": [],
   "source": []
  },
  {
   "cell_type": "code",
   "execution_count": null,
   "metadata": {},
   "outputs": [],
   "source": []
  },
  {
   "cell_type": "code",
   "execution_count": null,
   "metadata": {},
   "outputs": [],
   "source": []
  },
  {
   "cell_type": "code",
   "execution_count": null,
   "metadata": {},
   "outputs": [],
   "source": []
  },
  {
   "cell_type": "code",
   "execution_count": null,
   "metadata": {},
   "outputs": [],
   "source": []
  },
  {
   "cell_type": "code",
   "execution_count": null,
   "metadata": {},
   "outputs": [],
   "source": []
  },
  {
   "cell_type": "code",
   "execution_count": null,
   "metadata": {},
   "outputs": [],
   "source": []
  },
  {
   "cell_type": "code",
   "execution_count": null,
   "metadata": {},
   "outputs": [],
   "source": []
  },
  {
   "cell_type": "code",
   "execution_count": null,
   "metadata": {},
   "outputs": [],
   "source": []
  }
 ],
 "metadata": {
  "kernelspec": {
   "display_name": "Python 3",
   "language": "python",
   "name": "python3"
  },
  "language_info": {
   "codemirror_mode": {
    "name": "ipython",
    "version": 3
   },
   "file_extension": ".py",
   "mimetype": "text/x-python",
   "name": "python",
   "nbconvert_exporter": "python",
   "pygments_lexer": "ipython3",
   "version": "3.9.9"
  }
 },
 "nbformat": 4,
 "nbformat_minor": 2
}
